{
  "nbformat": 4,
  "nbformat_minor": 0,
  "metadata": {
    "colab": {
      "name": "parserExample.ipynb",
      "provenance": [],
      "collapsed_sections": [],
      "authorship_tag": "ABX9TyPSStY03ROg9zpp/zOI9Z8g",
      "include_colab_link": true
    },
    "kernelspec": {
      "name": "python3",
      "display_name": "Python 3"
    }
  },
  "cells": [
    {
      "cell_type": "markdown",
      "metadata": {
        "id": "view-in-github",
        "colab_type": "text"
      },
      "source": [
        "<a href=\"https://colab.research.google.com/github/Vaishnavi444/Sample/blob/master/parserExample.ipynb\" target=\"_parent\"><img src=\"https://colab.research.google.com/assets/colab-badge.svg\" alt=\"Open In Colab\"/></a>"
      ]
    },
    {
      "cell_type": "code",
      "metadata": {
        "id": "TqQLNjXPq0hS",
        "colab_type": "code",
        "colab": {}
      },
      "source": [
        "from graphbrain.notebook import *\n",
        "from graphbrain.parsers import *"
      ],
      "execution_count": 0,
      "outputs": []
    },
    {
      "cell_type": "code",
      "metadata": {
        "id": "6Sm5kC3vsaxd",
        "colab_type": "code",
        "colab": {
          "base_uri": "https://localhost:8080/",
          "height": 87
        },
        "outputId": "1b9ec47c-bd39-4eb8-f5e7-14bb9017ea7e"
      },
      "source": [
        "!python -m spacy download en_core_web_lg"
      ],
      "execution_count": 2,
      "outputs": [
        {
          "output_type": "stream",
          "text": [
            "Requirement already satisfied: en_core_web_lg==2.1.0 from https://github.com/explosion/spacy-models/releases/download/en_core_web_lg-2.1.0/en_core_web_lg-2.1.0.tar.gz#egg=en_core_web_lg==2.1.0 in /usr/local/lib/python3.6/dist-packages (2.1.0)\n",
            "\u001b[38;5;2m✔ Download and installation successful\u001b[0m\n",
            "You can now load the model via spacy.load('en_core_web_lg')\n"
          ],
          "name": "stdout"
        }
      ]
    },
    {
      "cell_type": "code",
      "metadata": {
        "id": "_1wQitzztLOC",
        "colab_type": "code",
        "colab": {}
      },
      "source": [
        "import spacy\n",
        "nlp = spacy.load('en_core_web_lg')"
      ],
      "execution_count": 0,
      "outputs": []
    },
    {
      "cell_type": "code",
      "metadata": {
        "id": "wprM_Y-Cq-Nu",
        "colab_type": "code",
        "colab": {}
      },
      "source": [
        "parser = create_parser(name='en')"
      ],
      "execution_count": 0,
      "outputs": []
    },
    {
      "cell_type": "code",
      "metadata": {
        "id": "k3v-_KPHrDsq",
        "colab_type": "code",
        "colab": {}
      },
      "source": [
        "text = \"Arthur's Magazine (1844\\u20131846) was an American literary periodical published in Philadelphia in the 19th century\""
      ],
      "execution_count": 0,
      "outputs": []
    },
    {
      "cell_type": "code",
      "metadata": {
        "id": "nI9gZducrGr0",
        "colab_type": "code",
        "colab": {
          "base_uri": "https://localhost:8080/",
          "height": 54
        },
        "outputId": "9172e1d3-098f-4431-9d3e-1751d8519ecf"
      },
      "source": [
        "parses = parser.parse(text)\n",
        "for parse in parses:\n",
        "    edge = parse['main_edge']\n",
        "    print(edge.to_str())"
      ],
      "execution_count": 6,
      "outputs": [
        {
          "output_type": "stream",
          "text": [
            "(was/pd.sc.<f----/en (:/b/. ('s/bp.am/en arthur/cp.s/en magazine/cp.s/en) 1844–1846/c#/en) (:/b/. (an/md/en (american/ma/en (literary/ma/en periodical/cc.s/en))) (published/pc.xx.<pf---/en (in/t/en philadelphia/cp.s/en) (in/tt/en (the/md/en (19th/ma/en century/cc.s/en))))))\n"
          ],
          "name": "stdout"
        }
      ]
    },
    {
      "cell_type": "code",
      "metadata": {
        "id": "7YOnmE6RrKJz",
        "colab_type": "code",
        "colab": {
          "base_uri": "https://localhost:8080/",
          "height": 54
        },
        "outputId": "6fc75a1e-08d3-4922-cc81-b76c44a33334"
      },
      "source": [
        "print(edge)"
      ],
      "execution_count": 7,
      "outputs": [
        {
          "output_type": "stream",
          "text": [
            "(was/pd.sc.<f----/en (:/b/. ('s/bp.am/en arthur/cp.s/en magazine/cp.s/en) 1844–1846/c#/en) (:/b/. (an/md/en (american/ma/en (literary/ma/en periodical/cc.s/en))) (published/pc.xx.<pf---/en (in/t/en philadelphia/cp.s/en) (in/tt/en (the/md/en (19th/ma/en century/cc.s/en))))))\n"
          ],
          "name": "stdout"
        }
      ]
    },
    {
      "cell_type": "code",
      "metadata": {
        "id": "I-ntdiASrMiL",
        "colab_type": "code",
        "colab": {
          "base_uri": "https://localhost:8080/",
          "height": 291
        },
        "outputId": "5914e1d1-83c9-488d-d20b-6d473cd47f1a"
      },
      "source": [
        "show(edge)"
      ],
      "execution_count": 8,
      "outputs": [
        {
          "output_type": "display_data",
          "data": {
            "text/html": [
              "<span style=\"color:#a65628\"><span style=\"font-weight:bold;font-size:14pt;\">(</span><span style=\"font-size:14pt;\"><span style=\"font-weight:bold;color:#a65628\">was</span></span> <div style=\"margin-left:20px;color:#377eb8\"><span style=\"font-weight:bold;font-size:13pt;\">[</span><span style=\"font-size:13pt;\"><span style=\"font-weight:bold;color:#377eb8\">:</span></span> <div style=\"margin-left:20px;color:#4daf4a\"><span style=\"font-weight:bold;font-size:12pt;\">[</span><span style=\"font-size:12pt;\"><span style=\"font-weight:bold;color:#4daf4a\">&#x27;s</span></span> <span style=\"font-size:12pt;\"><span style=\"color:#404040\">arthur</span></span> <span style=\"font-size:12pt;\"><span style=\"color:#404040\">magazine</span></span><span style=\"color:#4daf4a\">\n",
              "            <span style=\"font-weight:bold;font-size:12pt;\">]</span>\n",
              "        </span></div> <div style=\"margin-left:20px;font-size:13pt;\"><span style=\"color:#404040\">1844–1846</span></div><span style=\"color:#377eb8\">\n",
              "            <span style=\"font-weight:bold;font-size:13pt;\">]</span>\n",
              "        </span></div> <div style=\"margin-left:20px;color:#377eb8\"><span style=\"font-weight:bold;font-size:13pt;\">[</span><span style=\"font-size:13pt;\"><span style=\"font-weight:bold;color:#377eb8\">:</span></span> <div style=\"margin-left:20px;color:#4daf4a\"><span style=\"font-weight:bold;font-size:12pt;\">[</span><span style=\"font-size:12pt;\"><span style=\"font-weight:bold;color:#4daf4a\">an</span></span> <div style=\"margin-left:20px;color:#984ea3\"><span style=\"font-weight:bold;font-size:11pt;\">[</span><span style=\"font-size:11pt;\"><span style=\"font-weight:bold;color:#984ea3\">american</span></span> <div style=\"margin-left:20px;color:#ff7f00\"><span style=\"font-weight:bold;font-size:10pt;\">[</span><span style=\"font-size:10pt;\"><span style=\"font-weight:bold;color:#ff7f00\">literary</span></span> <span style=\"font-size:10pt;\"><span style=\"color:#404040\">periodical</span></span><span style=\"color:#ff7f00\">\n",
              "            <span style=\"font-weight:bold;font-size:10pt;\">]</span>\n",
              "        </span><span style=\"color:#984ea3\">\n",
              "            <span style=\"font-weight:bold;font-size:11pt;\">]</span>\n",
              "        </span><span style=\"color:#4daf4a\">\n",
              "            <span style=\"font-weight:bold;font-size:12pt;\">]</span>\n",
              "        </span></div></div></div> <div style=\"margin-left:20px;color:#4daf4a\"><span style=\"font-weight:bold;font-size:12pt;\">(</span><span style=\"font-size:12pt;\"><span style=\"font-weight:bold;color:#4daf4a\">published</span></span> <div style=\"margin-left:20px;color:#984ea3\"><span style=\"font-weight:bold;font-size:11pt;\">{</span><span style=\"font-size:11pt;\"><span style=\"font-weight:bold;color:#984ea3\">in</span></span> <span style=\"font-size:11pt;\"><span style=\"color:#404040\">philadelphia</span></span><span style=\"color:#984ea3\">\n",
              "            <span style=\"font-weight:bold;font-size:11pt;\">}</span>\n",
              "        </span></div> <div style=\"margin-left:20px;color:#984ea3\"><span style=\"font-weight:bold;font-size:11pt;\">{</span><span style=\"font-size:11pt;\"><span style=\"font-weight:bold;color:#984ea3\">in</span></span> <div style=\"margin-left:20px;color:#ff7f00\"><span style=\"font-weight:bold;font-size:10pt;\">[</span><span style=\"font-size:10pt;\"><span style=\"font-weight:bold;color:#ff7f00\">the</span></span> <div style=\"margin-left:20px;color:#ffff33\"><span style=\"font-weight:bold;font-size:9pt;\">[</span><span style=\"font-size:9pt;\"><span style=\"font-weight:bold;color:#ffff33\">19th</span></span> <span style=\"font-size:9pt;\"><span style=\"color:#404040\">century</span></span><span style=\"color:#ffff33\">\n",
              "            <span style=\"font-weight:bold;font-size:9pt;\">]</span>\n",
              "        </span><span style=\"color:#ff7f00\">\n",
              "            <span style=\"font-weight:bold;font-size:10pt;\">]</span>\n",
              "        </span><span style=\"color:#984ea3\">\n",
              "            <span style=\"font-weight:bold;font-size:11pt;\">}</span>\n",
              "        </span><span style=\"color:#4daf4a\">\n",
              "            <span style=\"font-weight:bold;font-size:12pt;\">)</span>\n",
              "        </span><span style=\"color:#377eb8\">\n",
              "            <span style=\"font-weight:bold;font-size:13pt;\">]</span>\n",
              "        </span><span style=\"color:#a65628\">\n",
              "            <span style=\"font-weight:bold;font-size:14pt;\">)</span>\n",
              "        </span></div></div></div></div></div></span>"
            ],
            "text/plain": [
              "<IPython.core.display.HTML object>"
            ]
          },
          "metadata": {
            "tags": []
          }
        }
      ]
    },
    {
      "cell_type": "code",
      "metadata": {
        "id": "FuSWujb2rNDT",
        "colab_type": "code",
        "colab": {}
      },
      "source": [
        "from graphbrain import notebook\n",
        "htmlEdge=notebook._edge2html(edge)"
      ],
      "execution_count": 0,
      "outputs": []
    },
    {
      "cell_type": "code",
      "metadata": {
        "id": "IYpvrfmYrNUr",
        "colab_type": "code",
        "colab": {
          "base_uri": "https://localhost:8080/",
          "height": 54
        },
        "outputId": "1ab9ac8d-ff41-440f-9aa2-ba384e59752c"
      },
      "source": [
        "htmlEdge"
      ],
      "execution_count": 10,
      "outputs": [
        {
          "output_type": "execute_result",
          "data": {
            "text/plain": [
              "'<span style=\"color:#a65628\"><span style=\"font-weight:bold;font-size:14pt;\">(</span><span style=\"font-size:14pt;\"><span style=\"font-weight:bold;color:#a65628\">was</span></span> <div style=\"margin-left:20px;color:#377eb8\"><span style=\"font-weight:bold;font-size:13pt;\">[</span><span style=\"font-size:13pt;\"><span style=\"font-weight:bold;color:#377eb8\">:</span></span> <div style=\"margin-left:20px;color:#4daf4a\"><span style=\"font-weight:bold;font-size:12pt;\">[</span><span style=\"font-size:12pt;\"><span style=\"font-weight:bold;color:#4daf4a\">&#x27;s</span></span> <span style=\"font-size:12pt;\"><span style=\"color:#404040\">arthur</span></span> <span style=\"font-size:12pt;\"><span style=\"color:#404040\">magazine</span></span><span style=\"color:#4daf4a\">\\n            <span style=\"font-weight:bold;font-size:12pt;\">]</span>\\n        </span></div> <div style=\"margin-left:20px;font-size:13pt;\"><span style=\"color:#404040\">1844–1846</span></div><span style=\"color:#377eb8\">\\n            <span style=\"font-weight:bold;font-size:13pt;\">]</span>\\n        </span></div> <div style=\"margin-left:20px;color:#377eb8\"><span style=\"font-weight:bold;font-size:13pt;\">[</span><span style=\"font-size:13pt;\"><span style=\"font-weight:bold;color:#377eb8\">:</span></span> <div style=\"margin-left:20px;color:#4daf4a\"><span style=\"font-weight:bold;font-size:12pt;\">[</span><span style=\"font-size:12pt;\"><span style=\"font-weight:bold;color:#4daf4a\">an</span></span> <div style=\"margin-left:20px;color:#984ea3\"><span style=\"font-weight:bold;font-size:11pt;\">[</span><span style=\"font-size:11pt;\"><span style=\"font-weight:bold;color:#984ea3\">american</span></span> <div style=\"margin-left:20px;color:#ff7f00\"><span style=\"font-weight:bold;font-size:10pt;\">[</span><span style=\"font-size:10pt;\"><span style=\"font-weight:bold;color:#ff7f00\">literary</span></span> <span style=\"font-size:10pt;\"><span style=\"color:#404040\">periodical</span></span><span style=\"color:#ff7f00\">\\n            <span style=\"font-weight:bold;font-size:10pt;\">]</span>\\n        </span><span style=\"color:#984ea3\">\\n            <span style=\"font-weight:bold;font-size:11pt;\">]</span>\\n        </span><span style=\"color:#4daf4a\">\\n            <span style=\"font-weight:bold;font-size:12pt;\">]</span>\\n        </span></div></div></div> <div style=\"margin-left:20px;color:#4daf4a\"><span style=\"font-weight:bold;font-size:12pt;\">(</span><span style=\"font-size:12pt;\"><span style=\"font-weight:bold;color:#4daf4a\">published</span></span> <div style=\"margin-left:20px;color:#984ea3\"><span style=\"font-weight:bold;font-size:11pt;\">{</span><span style=\"font-size:11pt;\"><span style=\"font-weight:bold;color:#984ea3\">in</span></span> <span style=\"font-size:11pt;\"><span style=\"color:#404040\">philadelphia</span></span><span style=\"color:#984ea3\">\\n            <span style=\"font-weight:bold;font-size:11pt;\">}</span>\\n        </span></div> <div style=\"margin-left:20px;color:#984ea3\"><span style=\"font-weight:bold;font-size:11pt;\">{</span><span style=\"font-size:11pt;\"><span style=\"font-weight:bold;color:#984ea3\">in</span></span> <div style=\"margin-left:20px;color:#ff7f00\"><span style=\"font-weight:bold;font-size:10pt;\">[</span><span style=\"font-size:10pt;\"><span style=\"font-weight:bold;color:#ff7f00\">the</span></span> <div style=\"margin-left:20px;color:#ffff33\"><span style=\"font-weight:bold;font-size:9pt;\">[</span><span style=\"font-size:9pt;\"><span style=\"font-weight:bold;color:#ffff33\">19th</span></span> <span style=\"font-size:9pt;\"><span style=\"color:#404040\">century</span></span><span style=\"color:#ffff33\">\\n            <span style=\"font-weight:bold;font-size:9pt;\">]</span>\\n        </span><span style=\"color:#ff7f00\">\\n            <span style=\"font-weight:bold;font-size:10pt;\">]</span>\\n        </span><span style=\"color:#984ea3\">\\n            <span style=\"font-weight:bold;font-size:11pt;\">}</span>\\n        </span><span style=\"color:#4daf4a\">\\n            <span style=\"font-weight:bold;font-size:12pt;\">)</span>\\n        </span><span style=\"color:#377eb8\">\\n            <span style=\"font-weight:bold;font-size:13pt;\">]</span>\\n        </span><span style=\"color:#a65628\">\\n            <span style=\"font-weight:bold;font-size:14pt;\">)</span>\\n        </span></div></div></div></div></div></span>'"
            ]
          },
          "metadata": {
            "tags": []
          },
          "execution_count": 10
        }
      ]
    },
    {
      "cell_type": "code",
      "metadata": {
        "id": "lNO5MYc2rNc5",
        "colab_type": "code",
        "colab": {}
      },
      "source": [
        "from html.parser import HTMLParser"
      ],
      "execution_count": 0,
      "outputs": []
    },
    {
      "cell_type": "code",
      "metadata": {
        "id": "KBjWdt_NrVsU",
        "colab_type": "code",
        "colab": {
          "base_uri": "https://localhost:8080/",
          "height": 50
        },
        "outputId": "668dea6e-6a2f-412e-9cff-8756eba7fd3b"
      },
      "source": [
        "parser123 = HTMLParser()\n",
        "html_decoded_string = parser123.unescape(htmlEdge)"
      ],
      "execution_count": 12,
      "outputs": [
        {
          "output_type": "stream",
          "text": [
            "/usr/local/lib/python3.6/dist-packages/ipykernel_launcher.py:2: DeprecationWarning: The unescape method is deprecated and will be removed in 3.5, use html.unescape() instead.\n",
            "  \n"
          ],
          "name": "stderr"
        }
      ]
    },
    {
      "cell_type": "code",
      "metadata": {
        "id": "dcXtcCU5rWTU",
        "colab_type": "code",
        "colab": {
          "base_uri": "https://localhost:8080/",
          "height": 54
        },
        "outputId": "316a076e-78a7-4a5d-bd2d-3d428e750074"
      },
      "source": [
        "html_decoded_string"
      ],
      "execution_count": 13,
      "outputs": [
        {
          "output_type": "execute_result",
          "data": {
            "text/plain": [
              "'<span style=\"color:#a65628\"><span style=\"font-weight:bold;font-size:14pt;\">(</span><span style=\"font-size:14pt;\"><span style=\"font-weight:bold;color:#a65628\">was</span></span> <div style=\"margin-left:20px;color:#377eb8\"><span style=\"font-weight:bold;font-size:13pt;\">[</span><span style=\"font-size:13pt;\"><span style=\"font-weight:bold;color:#377eb8\">:</span></span> <div style=\"margin-left:20px;color:#4daf4a\"><span style=\"font-weight:bold;font-size:12pt;\">[</span><span style=\"font-size:12pt;\"><span style=\"font-weight:bold;color:#4daf4a\">\\'s</span></span> <span style=\"font-size:12pt;\"><span style=\"color:#404040\">arthur</span></span> <span style=\"font-size:12pt;\"><span style=\"color:#404040\">magazine</span></span><span style=\"color:#4daf4a\">\\n            <span style=\"font-weight:bold;font-size:12pt;\">]</span>\\n        </span></div> <div style=\"margin-left:20px;font-size:13pt;\"><span style=\"color:#404040\">1844–1846</span></div><span style=\"color:#377eb8\">\\n            <span style=\"font-weight:bold;font-size:13pt;\">]</span>\\n        </span></div> <div style=\"margin-left:20px;color:#377eb8\"><span style=\"font-weight:bold;font-size:13pt;\">[</span><span style=\"font-size:13pt;\"><span style=\"font-weight:bold;color:#377eb8\">:</span></span> <div style=\"margin-left:20px;color:#4daf4a\"><span style=\"font-weight:bold;font-size:12pt;\">[</span><span style=\"font-size:12pt;\"><span style=\"font-weight:bold;color:#4daf4a\">an</span></span> <div style=\"margin-left:20px;color:#984ea3\"><span style=\"font-weight:bold;font-size:11pt;\">[</span><span style=\"font-size:11pt;\"><span style=\"font-weight:bold;color:#984ea3\">american</span></span> <div style=\"margin-left:20px;color:#ff7f00\"><span style=\"font-weight:bold;font-size:10pt;\">[</span><span style=\"font-size:10pt;\"><span style=\"font-weight:bold;color:#ff7f00\">literary</span></span> <span style=\"font-size:10pt;\"><span style=\"color:#404040\">periodical</span></span><span style=\"color:#ff7f00\">\\n            <span style=\"font-weight:bold;font-size:10pt;\">]</span>\\n        </span><span style=\"color:#984ea3\">\\n            <span style=\"font-weight:bold;font-size:11pt;\">]</span>\\n        </span><span style=\"color:#4daf4a\">\\n            <span style=\"font-weight:bold;font-size:12pt;\">]</span>\\n        </span></div></div></div> <div style=\"margin-left:20px;color:#4daf4a\"><span style=\"font-weight:bold;font-size:12pt;\">(</span><span style=\"font-size:12pt;\"><span style=\"font-weight:bold;color:#4daf4a\">published</span></span> <div style=\"margin-left:20px;color:#984ea3\"><span style=\"font-weight:bold;font-size:11pt;\">{</span><span style=\"font-size:11pt;\"><span style=\"font-weight:bold;color:#984ea3\">in</span></span> <span style=\"font-size:11pt;\"><span style=\"color:#404040\">philadelphia</span></span><span style=\"color:#984ea3\">\\n            <span style=\"font-weight:bold;font-size:11pt;\">}</span>\\n        </span></div> <div style=\"margin-left:20px;color:#984ea3\"><span style=\"font-weight:bold;font-size:11pt;\">{</span><span style=\"font-size:11pt;\"><span style=\"font-weight:bold;color:#984ea3\">in</span></span> <div style=\"margin-left:20px;color:#ff7f00\"><span style=\"font-weight:bold;font-size:10pt;\">[</span><span style=\"font-size:10pt;\"><span style=\"font-weight:bold;color:#ff7f00\">the</span></span> <div style=\"margin-left:20px;color:#ffff33\"><span style=\"font-weight:bold;font-size:9pt;\">[</span><span style=\"font-size:9pt;\"><span style=\"font-weight:bold;color:#ffff33\">19th</span></span> <span style=\"font-size:9pt;\"><span style=\"color:#404040\">century</span></span><span style=\"color:#ffff33\">\\n            <span style=\"font-weight:bold;font-size:9pt;\">]</span>\\n        </span><span style=\"color:#ff7f00\">\\n            <span style=\"font-weight:bold;font-size:10pt;\">]</span>\\n        </span><span style=\"color:#984ea3\">\\n            <span style=\"font-weight:bold;font-size:11pt;\">}</span>\\n        </span><span style=\"color:#4daf4a\">\\n            <span style=\"font-weight:bold;font-size:12pt;\">)</span>\\n        </span><span style=\"color:#377eb8\">\\n            <span style=\"font-weight:bold;font-size:13pt;\">]</span>\\n        </span><span style=\"color:#a65628\">\\n            <span style=\"font-weight:bold;font-size:14pt;\">)</span>\\n        </span></div></div></div></div></div></span>'"
            ]
          },
          "metadata": {
            "tags": []
          },
          "execution_count": 13
        }
      ]
    },
    {
      "cell_type": "code",
      "metadata": {
        "id": "t8b_g1QordY8",
        "colab_type": "code",
        "colab": {
          "base_uri": "https://localhost:8080/",
          "height": 34
        },
        "outputId": "0e68d3a5-52dd-4fc7-f215-a7c11c2b8091"
      },
      "source": [
        "showToString=\"\"\n",
        "for i in range(len(html_decoded_string)-1):\n",
        "    if html_decoded_string[i]=='>' and html_decoded_string[i+1]!=\"<\" and html_decoded_string[i+1]!=\"\\n\":\n",
        "        j=i+1\n",
        "        while(html_decoded_string[j]!='<'):\n",
        "            showToString+=html_decoded_string[j]\n",
        "            j+=1\n",
        "print(showToString)"
      ],
      "execution_count": 14,
      "outputs": [
        {
          "output_type": "stream",
          "text": [
            "(was [: ['s arthur magazine] 1844–1846] [: [an [american [literary periodical]]] (published {in philadelphia} {in [the [19th century]]})])\n"
          ],
          "name": "stdout"
        }
      ]
    },
    {
      "cell_type": "code",
      "metadata": {
        "id": "wDWtDnDirdyb",
        "colab_type": "code",
        "colab": {
          "base_uri": "https://localhost:8080/",
          "height": 34
        },
        "outputId": "ff8f85c1-dafb-4f50-eb80-a88963341b83"
      },
      "source": [
        "print(showToString)"
      ],
      "execution_count": 15,
      "outputs": [
        {
          "output_type": "stream",
          "text": [
            "(was [: ['s arthur magazine] 1844–1846] [: [an [american [literary periodical]]] (published {in philadelphia} {in [the [19th century]]})])\n"
          ],
          "name": "stdout"
        }
      ]
    },
    {
      "cell_type": "code",
      "metadata": {
        "id": "owUlXHgWti3-",
        "colab_type": "code",
        "colab": {}
      },
      "source": [
        ""
      ],
      "execution_count": 0,
      "outputs": []
    }
  ]
}